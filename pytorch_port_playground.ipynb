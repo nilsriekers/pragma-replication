{
 "cells": [
  {
   "cell_type": "code",
   "execution_count": 1,
   "id": "86f6dbc4",
   "metadata": {},
   "outputs": [],
   "source": [
    "import adadelta\n",
    "import corpus\n",
    "from indices import WORD_INDEX\n",
    "#from modules import *\n",
    "import util\n",
    "\n",
    "#import apollocaffe\n",
    "#from apollocaffe import ApolloNet\n",
    "#from apollocaffe.layers import Concat\n",
    "from collections import defaultdict\n",
    "import itertools\n",
    "import logging\n",
    "import numpy as np\n",
    "import shutil\n",
    "import sys\n",
    "import yaml"
   ]
  },
  {
   "cell_type": "code",
   "execution_count": 2,
   "id": "64077b60",
   "metadata": {},
   "outputs": [],
   "source": [
    "CONFIG = \"\"\"\n",
    "opt:\n",
    "    epochs: 10\n",
    "    batch_size: 100\n",
    "    alternatives: 1\n",
    "\n",
    "    rho: 0.95\n",
    "    eps: 0.000001\n",
    "    lr: 1\n",
    "    clip: 10\n",
    "\n",
    "model:\n",
    "    prop_embedding_size: 50\n",
    "    word_embedding_size: 50\n",
    "    hidden_size: 100\n",
    "\"\"\"\n",
    "\n",
    "N_TEST_IMAGES      = 100\n",
    "N_TEST             = N_TEST_IMAGES * 10\n",
    "N_EXPERIMENT_PAIRS = 100"
   ]
  },
  {
   "cell_type": "markdown",
   "id": "9ace25cf",
   "metadata": {},
   "source": [
    "Testing the ``main()`` function:"
   ]
  },
  {
   "cell_type": "code",
   "execution_count": 3,
   "id": "343dfb87",
   "metadata": {
    "scrolled": false
   },
   "outputs": [
    {
     "name": "stdout",
     "output_type": "stream",
     "text": [
      "loaded data\n",
      "48348 training examples\n"
     ]
    }
   ],
   "source": [
    "job         = \"train.base\" #sys.argv[1]\n",
    "corpus_name = \"abstract\"   #sys.argv[2]\n",
    "\n",
    "config = util.Struct(**yaml.safe_load(CONFIG))\n",
    "if corpus_name == \"abstract\":\n",
    "    train_scenes, dev_scenes, test_scenes = corpus.load_abstract()\n",
    "else:\n",
    "    assert corpus_name == \"birds\"\n",
    "    train_scenes, dev_scenes, test_scenes = corpus.load_birds()\n",
    "#apollo_net = ApolloNet()\n",
    "print(\"loaded data\")\n",
    "print(\"%d training examples\" % len(train_scenes))"
   ]
  },
  {
   "cell_type": "code",
   "execution_count": null,
   "id": "e9357917",
   "metadata": {},
   "outputs": [],
   "source": []
  },
  {
   "cell_type": "code",
   "execution_count": null,
   "id": "de12d61e",
   "metadata": {},
   "outputs": [],
   "source": []
  },
  {
   "cell_type": "markdown",
   "id": "c0afa10b",
   "metadata": {},
   "source": [
    "---"
   ]
  },
  {
   "cell_type": "code",
   "execution_count": 12,
   "id": "561d5bb3",
   "metadata": {},
   "outputs": [],
   "source": [
    "from collections import defaultdict, namedtuple"
   ]
  },
  {
   "cell_type": "code",
   "execution_count": 18,
   "id": "8728eb78",
   "metadata": {},
   "outputs": [],
   "source": [
    "Scene = namedtuple(\"Scene\", [\"image_id\", \"props\", \"description\", \"features\"])\n",
    "scenes = []\n",
    "\n",
    "image_strid = \"0_0\"\n",
    "props = \"props\"\n",
    "word_ids = \"word_ids\"\n",
    "features = \"features\"\n",
    "scenes.append(Scene(image_strid, props, word_ids, features))\n",
    "\n",
    "image_strid = \"0_1\"\n",
    "props = \"props1\"\n",
    "word_ids = \"word_ids1\"\n",
    "features = \"features1\"\n",
    "scenes.append(Scene(image_strid, props, word_ids, features))"
   ]
  },
  {
   "cell_type": "code",
   "execution_count": 19,
   "id": "05eb37d2",
   "metadata": {},
   "outputs": [
    {
     "data": {
      "text/plain": [
       "[Scene(image_id='0_0', props='props', description='word_ids', features='features'),\n",
       " Scene(image_id='0_1', props='props1', description='word_ids1', features='features1')]"
      ]
     },
     "execution_count": 19,
     "metadata": {},
     "output_type": "execute_result"
    }
   ],
   "source": [
    "scenes"
   ]
  }
 ],
 "metadata": {
  "kernelspec": {
   "display_name": "Python 3 (ipykernel)",
   "language": "python",
   "name": "python3"
  },
  "language_info": {
   "codemirror_mode": {
    "name": "ipython",
    "version": 3
   },
   "file_extension": ".py",
   "mimetype": "text/x-python",
   "name": "python",
   "nbconvert_exporter": "python",
   "pygments_lexer": "ipython3",
   "version": "3.9.15"
  }
 },
 "nbformat": 4,
 "nbformat_minor": 5
}
