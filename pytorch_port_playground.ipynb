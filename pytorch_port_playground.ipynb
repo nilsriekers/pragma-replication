{
 "cells": [
  {
   "cell_type": "code",
   "execution_count": 1,
   "id": "86f6dbc4",
   "metadata": {},
   "outputs": [],
   "source": [
    "import adadelta\n",
    "import corpus\n",
    "from indices import WORD_INDEX\n",
    "#from modules import *\n",
    "import util\n",
    "\n",
    "#import apollocaffe\n",
    "#from apollocaffe import ApolloNet\n",
    "#from apollocaffe.layers import Concat\n",
    "from collections import defaultdict\n",
    "import itertools\n",
    "import logging\n",
    "import numpy as np\n",
    "import shutil\n",
    "import sys\n",
    "import yaml"
   ]
  },
  {
   "cell_type": "code",
   "execution_count": 2,
   "id": "64077b60",
   "metadata": {},
   "outputs": [],
   "source": [
    "CONFIG = \"\"\"\n",
    "opt:\n",
    "    epochs: 10\n",
    "    batch_size: 100\n",
    "    alternatives: 1\n",
    "\n",
    "    rho: 0.95\n",
    "    eps: 0.000001\n",
    "    lr: 1\n",
    "    clip: 10\n",
    "\n",
    "model:\n",
    "    prop_embedding_size: 50\n",
    "    word_embedding_size: 50\n",
    "    hidden_size: 100\n",
    "\"\"\"\n",
    "\n",
    "N_TEST_IMAGES      = 100\n",
    "N_TEST             = N_TEST_IMAGES * 10\n",
    "N_EXPERIMENT_PAIRS = 100"
   ]
  },
  {
   "cell_type": "markdown",
   "id": "9ace25cf",
   "metadata": {},
   "source": [
    "Testing the ``main()`` function:"
   ]
  },
  {
   "cell_type": "code",
   "execution_count": 3,
   "id": "343dfb87",
   "metadata": {
    "scrolled": false
   },
   "outputs": [
    {
     "ename": "IndexError",
     "evalue": "list index out of range",
     "output_type": "error",
     "traceback": [
      "\u001b[1;31m---------------------------------------------------------------------------\u001b[0m",
      "\u001b[1;31mIndexError\u001b[0m                                Traceback (most recent call last)",
      "Cell \u001b[1;32mIn[3], line 6\u001b[0m\n\u001b[0;32m      4\u001b[0m config \u001b[38;5;241m=\u001b[39m util\u001b[38;5;241m.\u001b[39mStruct(\u001b[38;5;241m*\u001b[39m\u001b[38;5;241m*\u001b[39myaml\u001b[38;5;241m.\u001b[39msafe_load(CONFIG))\n\u001b[0;32m      5\u001b[0m \u001b[38;5;28;01mif\u001b[39;00m corpus_name \u001b[38;5;241m==\u001b[39m \u001b[38;5;124m\"\u001b[39m\u001b[38;5;124mabstract\u001b[39m\u001b[38;5;124m\"\u001b[39m:\n\u001b[1;32m----> 6\u001b[0m     train_scenes, dev_scenes, test_scenes \u001b[38;5;241m=\u001b[39m \u001b[43mcorpus\u001b[49m\u001b[38;5;241;43m.\u001b[39;49m\u001b[43mload_abstract\u001b[49m\u001b[43m(\u001b[49m\u001b[43m)\u001b[49m\n\u001b[0;32m      7\u001b[0m \u001b[38;5;28;01melse\u001b[39;00m:\n\u001b[0;32m      8\u001b[0m     \u001b[38;5;28;01massert\u001b[39;00m corpus_name \u001b[38;5;241m==\u001b[39m \u001b[38;5;124m\"\u001b[39m\u001b[38;5;124mbirds\u001b[39m\u001b[38;5;124m\"\u001b[39m\n",
      "File \u001b[1;32mF:\\Dokumente\\008 Studium\\Master Kognitionswissenschaft\\Semester 5 (WS 22-23)\\Natural Language Generation\\pragma-replication\\corpus.py:126\u001b[0m, in \u001b[0;36mload_abstract\u001b[1;34m()\u001b[0m\n\u001b[0;32m    124\u001b[0m props \u001b[38;5;241m=\u001b[39m load_props()\n\u001b[0;32m    125\u001b[0m norm_props \u001b[38;5;241m=\u001b[39m normalize_props(props)\n\u001b[1;32m--> 126\u001b[0m scenes \u001b[38;5;241m=\u001b[39m \u001b[43mload_scenes\u001b[49m\u001b[43m(\u001b[49m\u001b[43mnorm_props\u001b[49m\u001b[43m)\u001b[49m\n\u001b[0;32m    127\u001b[0m train_scenes \u001b[38;5;241m=\u001b[39m []\n\u001b[0;32m    128\u001b[0m dev_scenes \u001b[38;5;241m=\u001b[39m []\n",
      "File \u001b[1;32mF:\\Dokumente\\008 Studium\\Master Kognitionswissenschaft\\Semester 5 (WS 22-23)\\Natural Language Generation\\pragma-replication\\corpus.py:82\u001b[0m, in \u001b[0;36mload_scenes\u001b[1;34m(scene_props)\u001b[0m\n\u001b[0;32m     80\u001b[0m \u001b[38;5;28;01mfor\u001b[39;00m sent_line \u001b[38;5;129;01min\u001b[39;00m sent_f:\n\u001b[0;32m     81\u001b[0m     sent_parts \u001b[38;5;241m=\u001b[39m sent_line\u001b[38;5;241m.\u001b[39mstrip()\u001b[38;5;241m.\u001b[39msplit(\u001b[38;5;124m\"\u001b[39m\u001b[38;5;130;01m\\t\u001b[39;00m\u001b[38;5;124m\"\u001b[39m)\n\u001b[1;32m---> 82\u001b[0m     sent \u001b[38;5;241m=\u001b[39m \u001b[43msent_parts\u001b[49m\u001b[43m[\u001b[49m\u001b[38;5;241;43m2\u001b[39;49m\u001b[43m]\u001b[49m\n\u001b[0;32m     83\u001b[0m     sent \u001b[38;5;241m=\u001b[39m sent\u001b[38;5;241m.\u001b[39mreplace(\u001b[38;5;124m'\u001b[39m\u001b[38;5;124m\"\u001b[39m\u001b[38;5;124m'\u001b[39m, \u001b[38;5;124m'\u001b[39m\u001b[38;5;124m \u001b[39m\u001b[38;5;124m\"\u001b[39m\u001b[38;5;124m \u001b[39m\u001b[38;5;124m'\u001b[39m)\n\u001b[0;32m     84\u001b[0m     sent \u001b[38;5;241m=\u001b[39m sent\u001b[38;5;241m.\u001b[39mreplace(\u001b[38;5;124m\"\u001b[39m\u001b[38;5;124m'\u001b[39m\u001b[38;5;124m\"\u001b[39m, \u001b[38;5;124m\"\u001b[39m\u001b[38;5;124m \u001b[39m\u001b[38;5;124m'\u001b[39m\u001b[38;5;124m \u001b[39m\u001b[38;5;124m\"\u001b[39m)\n",
      "\u001b[1;31mIndexError\u001b[0m: list index out of range"
     ]
    }
   ],
   "source": [
    "job         = \"train.base\" #sys.argv[1]\n",
    "corpus_name = \"abstract\"   #sys.argv[2]\n",
    "\n",
    "config = util.Struct(**yaml.safe_load(CONFIG))\n",
    "if corpus_name == \"abstract\":\n",
    "    train_scenes, dev_scenes, test_scenes = corpus.load_abstract()\n",
    "else:\n",
    "    assert corpus_name == \"birds\"\n",
    "    train_scenes, dev_scenes, test_scenes = corpus.load_birds()\n",
    "#apollo_net = ApolloNet()\n",
    "print(\"loaded data\")\n",
    "print(\"%d training examples\" % len(train_scenes))"
   ]
  },
  {
   "cell_type": "code",
   "execution_count": 12,
   "id": "561d5bb3",
   "metadata": {},
   "outputs": [],
   "source": [
    "from collections import defaultdict, namedtuple"
   ]
  },
  {
   "cell_type": "code",
   "execution_count": 18,
   "id": "8728eb78",
   "metadata": {},
   "outputs": [],
   "source": [
    "Scene = namedtuple(\"Scene\", [\"image_id\", \"props\", \"description\", \"features\"])\n",
    "scenes = []\n",
    "\n",
    "image_strid = \"0_0\"\n",
    "props = \"props\"\n",
    "word_ids = \"word_ids\"\n",
    "features = \"features\"\n",
    "scenes.append(Scene(image_strid, props, word_ids, features))\n",
    "\n",
    "image_strid = \"0_1\"\n",
    "props = \"props1\"\n",
    "word_ids = \"word_ids1\"\n",
    "features = \"features1\"\n",
    "scenes.append(Scene(image_strid, props, word_ids, features))"
   ]
  },
  {
   "cell_type": "code",
   "execution_count": 19,
   "id": "05eb37d2",
   "metadata": {},
   "outputs": [
    {
     "data": {
      "text/plain": [
       "[Scene(image_id='0_0', props='props', description='word_ids', features='features'),\n",
       " Scene(image_id='0_1', props='props1', description='word_ids1', features='features1')]"
      ]
     },
     "execution_count": 19,
     "metadata": {},
     "output_type": "execute_result"
    }
   ],
   "source": [
    "scenes"
   ]
  }
 ],
 "metadata": {
  "kernelspec": {
   "display_name": "Python 3 (ipykernel)",
   "language": "python",
   "name": "python3"
  },
  "language_info": {
   "codemirror_mode": {
    "name": "ipython",
    "version": 3
   },
   "file_extension": ".py",
   "mimetype": "text/x-python",
   "name": "python",
   "nbconvert_exporter": "python",
   "pygments_lexer": "ipython3",
   "version": "3.9.15"
  }
 },
 "nbformat": 4,
 "nbformat_minor": 5
}
